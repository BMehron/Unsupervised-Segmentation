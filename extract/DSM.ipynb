{
 "cells": [
  {
   "cell_type": "code",
   "execution_count": 29,
   "id": "7476a86e-675a-4581-98c7-261706b675b8",
   "metadata": {},
   "outputs": [
    {
     "name": "stdout",
     "output_type": "stream",
     "text": [
      "Loaded bounding box list. There are 239750 total bounding boxes with features.\n",
      "Stacking and normalizing features\n",
      "(239750, 384)\n"
     ]
    }
   ],
   "source": [
    "from functools import partial\n",
    "from pathlib import Path\n",
    "from typing import Optional, Tuple\n",
    "\n",
    "import cv2\n",
    "import fire\n",
    "import numpy as np\n",
    "import torch\n",
    "from torch import nn\n",
    "import torch.nn.functional as F\n",
    "from accelerate import Accelerator\n",
    "from PIL import Image\n",
    "from scipy.sparse.linalg import eigsh\n",
    "from sklearn.cluster import KMeans, MiniBatchKMeans\n",
    "from sklearn.decomposition import PCA\n",
    "from torchvision.utils import draw_bounding_boxes\n",
    "from tqdm import tqdm\n",
    "#from rhm_map import apply_sinkhorn\n",
    "import random\n",
    "\n",
    "import extract_utils\n",
    "\n",
    "torch.manual_seed(123)\n",
    "torch.cuda.manual_seed(123)\n",
    "np.random.seed(123)\n",
    "random.seed(123)\n",
    "\n",
    "bbox_features_file = './data/VOC2012/multi_region_bboxes/laplacian/bbox_features.pth'\n",
    "output_file = './data/VOC2012/multi_region_bboxes/laplacian/bbox_clusters.pth'\n",
    "\n",
    "bbox_list = torch.load(bbox_features_file)\n",
    "total_num_boxes = sum(len(d['bboxes']) for d in bbox_list)\n",
    "print(f'Loaded bounding box list. There are {total_num_boxes} total bounding boxes with features.')\n",
    "\n",
    "# Loop over boxes and stack features with PyTorch, because Numpy is too slow\n",
    "print(f'Stacking and normalizing features')\n",
    "all_features = torch.cat([bbox_dict['features'] for bbox_dict in bbox_list], dim=0)  # (numBbox, D)\n",
    "all_features = all_features / torch.norm(all_features, dim=-1, keepdim=True)  # (numBbox, D)f\n",
    "all_features = all_features.numpy()\n",
    "print(all_features.shape)"
   ]
  },
  {
   "cell_type": "markdown",
   "id": "fd61b74f-563f-402c-92db-a53242d71f31",
   "metadata": {},
   "source": [
    "|Num Clusters | MaxIter | Architecture| Mean IoU|\n",
    "| --- | --- | --- | --- |\n",
    "| **21** | 200  | KMeans L2  | 25.56|\n",
    "| **21** | 200  | KMeans cos | 26.42, 24.55|\n",
    "| **21** | 20  | KMeans cos + OT | 25.25, 23.80 |\n",
    "| **21** | 200  | KMeans norm/std + L2 | 24.09 |\n",
    "| **21** | 200  | KMeans norm/std + cos | 24.22 |\n",
    "| **21** | 20  | KMeans norm/std + cos + OT | 23.69 |\n",
    "| **21** | 20  | Crop Masked Attn | 23.66 |\n",
    "| **21** | 20  | Crop CLS token without last ATTN | 20.30 |\n",
    "| **21** | 20  | Crop CLS token with Attn |  22.19|\n",
    "| **21** | 20  | Crop CLS token with Attn Forward Pass |  20.91, 16.87|"
   ]
  },
  {
   "cell_type": "code",
   "execution_count": 3,
   "id": "748aa4f6-c218-4ce8-a27a-317b456c2b72",
   "metadata": {},
   "outputs": [],
   "source": [
    "import torch\n",
    "from torch import Tensor, nn\n",
    "\n",
    "import math\n",
    "from typing import Tuple, Type\n",
    "    \n",
    "class Attention(nn.Module):\n",
    "    \"\"\"\n",
    "    An attention layer that allows for downscaling the size of the embedding\n",
    "    after projection to queries, keys, and values.\n",
    "    \"\"\"\n",
    "\n",
    "    def __init__(\n",
    "        self,\n",
    "        embedding_dim: int,\n",
    "        num_heads: int,\n",
    "        downsample_rate: int = 1,\n",
    "    ) -> None:\n",
    "        super().__init__()\n",
    "        self.embedding_dim = embedding_dim\n",
    "        self.internal_dim = embedding_dim // downsample_rate\n",
    "        self.num_heads = num_heads\n",
    "        assert self.internal_dim % num_heads == 0, \"num_heads must divide embedding_dim.\"\n",
    "\n",
    "        self.q_proj = nn.Linear(embedding_dim, self.internal_dim)\n",
    "        self.k_proj = nn.Linear(embedding_dim, self.internal_dim)\n",
    "        self.v_proj = nn.Linear(embedding_dim, self.internal_dim)\n",
    "        self.out_proj = nn.Linear(self.internal_dim, embedding_dim)\n",
    "\n",
    "    def _separate_heads(self, x: Tensor, num_heads: int) -> Tensor:\n",
    "        b, n, c = x.shape\n",
    "        x = x.reshape(b, n, num_heads, c // num_heads)\n",
    "        return x.transpose(1, 2)  # B x N_heads x N_tokens x C_per_head\n",
    "\n",
    "    def _recombine_heads(self, x: Tensor) -> Tensor:\n",
    "        b, n_heads, n_tokens, c_per_head = x.shape\n",
    "        x = x.transpose(1, 2)\n",
    "        return x.reshape(b, n_tokens, n_heads * c_per_head)  # B x N_tokens x C\n",
    "\n",
    "    def forward(self, q: Tensor, k: Tensor, v: Tensor) -> Tensor:\n",
    "        # Input projections\n",
    "        q = self.q_proj(q)\n",
    "        k = self.k_proj(k)\n",
    "        v = self.v_proj(v)\n",
    "\n",
    "        # Separate into heads\n",
    "        q = self._separate_heads(q, self.num_heads)\n",
    "        k = self._separate_heads(k, self.num_heads)\n",
    "        v = self._separate_heads(v, self.num_heads)\n",
    "\n",
    "        # Attention\n",
    "        _, _, _, c_per_head = q.shape\n",
    "        attn = q @ k.permute(0, 1, 3, 2)  # B x N_heads x N_tokens x N_tokens\n",
    "        attn = attn / math.sqrt(c_per_head)\n",
    "        attn = torch.softmax(attn, dim=-1)\n",
    "\n",
    "        # Get output\n",
    "        out = attn @ v # B x N_heads x N_tokens x C_per_head\n",
    "        out = self._recombine_heads(out)\n",
    "        out = self.out_proj(out)\n",
    "\n",
    "        return out\n",
    "\n",
    "class MLPBlock(nn.Module):\n",
    "    def __init__(\n",
    "        self,\n",
    "        embedding_dim: int,\n",
    "        mlp_dim: int,\n",
    "        act: Type[nn.Module] = nn.ReLU,\n",
    "        skip_connection: bool = False,\n",
    "        layer_norm: bool = False,\n",
    "        dropout: float = 0.1\n",
    "        \n",
    "    ) -> None:\n",
    "        super().__init__()\n",
    "        \n",
    "        self.skip_connection = skip_connection\n",
    "        self.layer_norm = layer_norm\n",
    "        \n",
    "        self.lin1 = nn.Linear(embedding_dim, mlp_dim)\n",
    "        self.lin2 = nn.Linear(mlp_dim, embedding_dim)\n",
    "        self.dropout = nn.Dropout(dropout)\n",
    "        self.act = act()\n",
    "        \n",
    "        if self.layer_norm:\n",
    "            self.norm = nn.LayerNorm(embedding_dim)\n",
    "\n",
    "    def forward(self, x: torch.Tensor) -> torch.Tensor:\n",
    "        mlp_out = self.lin2(self.dropout(self.act(self.lin1(x))))\n",
    "        if self.skip_connection:\n",
    "            mlp_out = x + mlp_out\n",
    "        if self.layer_norm:\n",
    "            mlp_out = self.norm(mlp_out)\n",
    "        return mlp_out"
   ]
  },
  {
   "cell_type": "markdown",
   "id": "0022fc4e-9235-4384-b5dd-fcfc295ad4ed",
   "metadata": {},
   "source": [
    "### Method 1: KMean as Attn + MLP"
   ]
  },
  {
   "cell_type": "code",
   "execution_count": 4,
   "id": "fcc7555c-8263-4d91-93d9-b32827ae45ad",
   "metadata": {},
   "outputs": [],
   "source": [
    "class KMeanAttentionBlock(nn.Module):\n",
    "    def __init__(\n",
    "        self,\n",
    "        embedding_dim: int,\n",
    "        num_heads: int,\n",
    "        mlp_dim: int = 2048,\n",
    "        num_clusters: int = 21,\n",
    "        activation: Type[nn.Module] = nn.ReLU,\n",
    "        skip_connection: bool = True,\n",
    "        layer_norm: bool = True,\n",
    "        dropout: float = 0.1\n",
    "    ) -> None:\n",
    "        \"\"\"\n",
    "        Arguments:\n",
    "          embedding_dim (int): the channel dimension of the embeddings\n",
    "          num_heads (int): the number of heads in the attention layers\n",
    "          mlp_dim (int): the hidden dimension of the mlp block\n",
    "          num_clusters (int): number of clusters\n",
    "          activation (nn.Module): the activation of the mlp block\n",
    "        \"\"\"\n",
    "        super().__init__() \n",
    "        # Initialize claster centers embedings\n",
    "        self.cluster_centers = torch.nn.Parameter(data=torch.randn(num_clusters, embedding_dim) / math.sqrt(embedding_dim / 2), requires_grad=True)\n",
    "        \n",
    "        # Attention Block\n",
    "        self.self_attn = Attention(embedding_dim, num_heads)\n",
    "        self.norm1 = nn.LayerNorm(embedding_dim)\n",
    "        self.mlp = MLPBlock(embedding_dim, mlp_dim, activation, skip_connection, layer_norm, dropout=dropout)\n",
    "        self.norm2 = nn.LayerNorm(embedding_dim)\n",
    "\n",
    "    def forward(\n",
    "        self, bbox_features: Tensor) -> Tuple[Tensor, Tensor]:\n",
    "        # Self attention block\n",
    "        attn_out = self.self_attn(q=bbox_features, k=self.cluster_centers.unsqueeze(dim=0), v=self.cluster_centers.unsqueeze(dim=0))\n",
    "        updated_clusters = bbox_features + attn_out\n",
    "        updated_clusters = self.norm1(updated_clusters)\n",
    "\n",
    "        # MLP block\n",
    "        updated_clusters = self.mlp(updated_clusters)\n",
    "        \n",
    "        return updated_clusters.squeeze(), self.cluster_centers"
   ]
  },
  {
   "cell_type": "code",
   "execution_count": 7,
   "id": "44256668-eefa-498e-b859-f794c9f4da3e",
   "metadata": {},
   "outputs": [],
   "source": [
    "from torchmetrics.functional.pairwise import pairwise_cosine_similarity\n",
    "from torch.linalg import matrix_norm\n",
    "\n",
    "def kmean_loss(features, cluster_centers, gamam=1.0, add_variance = False):\n",
    "    \"\"\"\n",
    "        fetaures: (N, C)\n",
    "        cluster_centers: (K, C)\n",
    "    \"\"\"\n",
    "    min_cluster_size = len(features) // (len(cluster_centers)**2)\n",
    "    max_cluster_size = len(features) // (len(cluster_centers) ** 0.5)\n",
    "    output = F.relu(pairwise_cosine_similarity(features, cluster_centers)) # (N, K) \n",
    "    coverage = torch.mean(F.relu(1-output.sum(dim=1))) + torch.mean(F.relu(min_cluster_size - output.sum(dim=0))) + torch.mean(F.relu(output.sum(dim=0)-max_cluster_size))\n",
    "    cluster_intersections = output.T@output # (K, K)\n",
    "    cluster_intersections[range(len(cluster_centers)), range(len(cluster_centers))] = 0.0\n",
    "    disjointness = torch.sum(cluster_intersections)\n",
    "    loss = coverage + gamam*disjointness\n",
    "    if add_variance:\n",
    "        clusters_assig = torch.argmax(output, dim=-1)\n",
    "        for k in range(len(cluster_centers)):\n",
    "            cluster_k = features[clusters_assig == k]\n",
    "            cluster_variance_ = torch.sum((cluster_k - torch.mean(cluster_k, dim=0))**2)\n",
    "            loss += cluster_variance_\n",
    "    return loss\n",
    "    "
   ]
  },
  {
   "cell_type": "code",
   "execution_count": 8,
   "id": "2c55d4c9-b949-419e-a964-f945129c1edd",
   "metadata": {},
   "outputs": [],
   "source": [
    "BATCH_SIZE = 4096\n",
    "EPOCHS = 500\n",
    "NUM_CLUSTERS = 21\n",
    "EMB_DIM = all_features.shape[1]\n",
    "NUM_HEADS = 1\n",
    "\n",
    "train_data = torch.tensor(all_features)"
   ]
  },
  {
   "cell_type": "code",
   "execution_count": 9,
   "id": "41f80850-061f-4a4c-9051-1a704f2d4424",
   "metadata": {},
   "outputs": [
    {
     "name": "stdout",
     "output_type": "stream",
     "text": [
      "cuda\n"
     ]
    }
   ],
   "source": [
    "device = 'cpu'\n",
    "if torch.cuda.is_available():\n",
    "    device = 'cuda'\n",
    "print(device)"
   ]
  },
  {
   "cell_type": "code",
   "execution_count": 11,
   "id": "a9631804-f1fc-4d41-be8e-11832d2ec3eb",
   "metadata": {},
   "outputs": [],
   "source": [
    "import gc\n",
    "\n",
    "def clear_gpu():\n",
    "    torch.cuda.empty_cache()\n",
    "    print(gc.collect())"
   ]
  },
  {
   "cell_type": "code",
   "execution_count": 13,
   "id": "18d4b64c-1aca-41d2-a013-865222347338",
   "metadata": {},
   "outputs": [
    {
     "name": "stdout",
     "output_type": "stream",
     "text": [
      "0\n"
     ]
    }
   ],
   "source": [
    "clear_gpu()"
   ]
  },
  {
   "cell_type": "code",
   "execution_count": 337,
   "id": "9e62d407-7fcb-40f9-b45a-8300085fe27f",
   "metadata": {},
   "outputs": [],
   "source": [
    "from torch import optim \n",
    "\n",
    "model = KMeanAttentionBlock(num_clusters = NUM_CLUSTERS, embedding_dim=EMB_DIM, num_heads=NUM_HEADS, mlp_dim=512).to(device)\n",
    "optimizer = optim.AdamW(model.parameters(), lr=3e-5, eps=1e-8)"
   ]
  },
  {
   "cell_type": "code",
   "execution_count": 338,
   "id": "af553666-b20b-45d2-b644-365c53646856",
   "metadata": {},
   "outputs": [
    {
     "data": {
      "text/plain": [
       "KMeanAttentionBlock(\n",
       "  (self_attn): Attention(\n",
       "    (q_proj): Linear(in_features=384, out_features=384, bias=True)\n",
       "    (k_proj): Linear(in_features=384, out_features=384, bias=True)\n",
       "    (v_proj): Linear(in_features=384, out_features=384, bias=True)\n",
       "    (out_proj): Linear(in_features=384, out_features=384, bias=True)\n",
       "  )\n",
       "  (norm1): LayerNorm((384,), eps=1e-05, elementwise_affine=True)\n",
       "  (mlp): MLPBlock(\n",
       "    (lin1): Linear(in_features=384, out_features=512, bias=True)\n",
       "    (lin2): Linear(in_features=512, out_features=384, bias=True)\n",
       "    (act): ReLU()\n",
       "  )\n",
       "  (norm2): LayerNorm((384,), eps=1e-05, elementwise_affine=True)\n",
       ")"
      ]
     },
     "execution_count": 338,
     "metadata": {},
     "output_type": "execute_result"
    }
   ],
   "source": [
    "model"
   ]
  },
  {
   "cell_type": "code",
   "execution_count": 440,
   "id": "f0e1fb59-2671-4ff2-8801-697b731a96c2",
   "metadata": {},
   "outputs": [],
   "source": [
    "from tqdm import tqdm\n",
    "from matplotlib import pyplot as plt\n",
    "from IPython.display import clear_output\n",
    "\n",
    "\n",
    "def train(train_data, model, optimizer, epochs = EPOCHS, batch_size = BATCH_SIZE):\n",
    "    model.train()\n",
    "    loss_history = []\n",
    "    weight_norm = []\n",
    "\n",
    "    torch.autograd.set_detect_anomaly(True)\n",
    "\n",
    "    for epoch in tqdm(range(epochs)):\n",
    "        epoch_loss = []\n",
    "        shuffled_train_data = train_data[torch.randperm(len(train_data))]\n",
    "        for i, batch_id in enumerate(tqdm(range(0, len(shuffled_train_data), batch_size), position=0, leave=True)):\n",
    "            batch = shuffled_train_data[batch_id:batch_id+batch_size].unsqueeze(dim=0).to(device)\n",
    "            updated_features, cluster_centers = model(batch)\n",
    "            loss = kmean_loss(updated_features, cluster_centers)\n",
    "\n",
    "            optimizer.zero_grad()\n",
    "            loss.backward()\n",
    "            optimizer.step()\n",
    "\n",
    "            #weight_norm.append((torch.min(model.cluster_centers).cpu().item(), torch.max(model.cluster_centers).cpu().item()))\n",
    "            epoch_loss.append(loss.item())\n",
    "        \n",
    "        loss_history.append(np.mean(epoch_loss))\n",
    "        \n",
    "        clear_output()\n",
    "        print(f\"Epoch {epoch}, Train loss: {loss_history[-1]}\") #, Min weight: {weight_norm[-1][0]}, Max weight: {weight_norm[-1][1]} \")\n",
    "        plt.figure(figsize=(12, 8))\n",
    "        plt.plot(loss_history, label='train loss')\n",
    "        #plt.plot(weight_norm, label='weight norm')\n",
    "        plt.title('Loss')\n",
    "        plt.xlabel('Epoch')\n",
    "        plt.yscale('log')\n",
    "        # plt.ylim([0, 2])\n",
    "        plt.legend(loc='best')\n",
    "        plt.show()\n",
    "        \n",
    "    return model"
   ]
  },
  {
   "cell_type": "code",
   "execution_count": 143,
   "id": "f1ca3a3b-67a1-4dfb-8f0b-4cc6c0352a15",
   "metadata": {},
   "outputs": [
    {
     "name": "stdout",
     "output_type": "stream",
     "text": [
      "Epoch 499, Train loss: 0.516930672576872\n"
     ]
    },
    {
     "data": {
      "image/png": "[encoded data removed]",
      "text/plain": [
       "<Figure size 1200x800 with 1 Axes>"
      ]
     },
     "metadata": {},
     "output_type": "display_data"
    },
    {
     "name": "stderr",
     "output_type": "stream",
     "text": [
      "100%|██████████| 500/500 [15:20<00:00,  1.84s/it]\n"
     ]
    }
   ],
   "source": [
    "# Attn + MLP\n",
    "\n",
    "model = train(train_data, model, optimizer)"
   ]
  },
  {
   "cell_type": "markdown",
   "id": "b7e87e2b-a072-49b3-a3cb-92c951621ab3",
   "metadata": {},
   "source": [
    "Num Clusters | Min Cluster Size Threshold| Max Cluster Size Threshold| Optimizer | LR | Epochs | Train Loss| Mean IoU|\n",
    "| --- | --- | --- | --- | --- | --- | --- | --- |\n",
    "| 20 | DSS | DSS | DSS | DSS | DSS | DSS| **25.95** |\n",
    "| 20 | 1 / k**(1.5) | None | AdamW | 3e-5 | 250 | 25.1895| |\n",
    "| 20 | 1 / k**(1.5) | None | AdamW | 3e-4 | 250 | 41.01| |\n",
    "| 20 | 1 / k**(2) | None | AdamW | 3e-5 | 250 | 0.846|  |\n",
    "| 20 | 1 / k**(2) | None | AdamW | 2e-5 | 250 | 0.9272| 26.72 |\n",
    "| 20 | 1 / k**(2) | 1 / k**(0.5) | AdamW | 3e-5 | 250 | 0.864| 27.23|\n",
    "| 20 | 1 / k**(2) | 1 / k**(0.7) | AdamW | 3e-5 | 300 | 0.797| 27.11|\n",
    "| 20 | 1 / k**(2) | 1 / k**(0.5) | AdamW | 3e-5 | 300 | 0.7878| **28.11**|\n",
    "| 20 | 1 / k**(2) | 1 / k**(0.5) | AdamW | 3e-5 | 500 | 0.432| 24.31|\n",
    "| **21** | 1 / k**(2) | 1 / k**(0.5) | AdamW | 3e-5 | 500 | 0.5169| **29.64**|\n",
    "| **21** | DSS | DSS | DSS | DSS | DSS | DSS| **27.69**|"
   ]
  },
  {
   "cell_type": "code",
   "execution_count": 19,
   "id": "d740e2b3-81dc-4029-b09e-89871d6841ba",
   "metadata": {},
   "outputs": [],
   "source": [
    "def model_eval(model, train_data):\n",
    "    model.eval()\n",
    "    \n",
    "    clusters = []\n",
    "    output = None\n",
    "\n",
    "    for i, batch_id in enumerate(tqdm(range(0, len(train_data), BATCH_SIZE), position=0, leave=True)):\n",
    "        batch = train_data[batch_id:batch_id+BATCH_SIZE].unsqueeze(dim=0).to(device)\n",
    "        features, cluster_centers = model(batch)\n",
    "        output = F.relu(pairwise_cosine_similarity(features, cluster_centers))\n",
    "        clusters.extend(list(map(lambda x: x.item(), list(torch.argmax(output, dim=-1).cpu()))))\n",
    "    \n",
    "    _indices, _counts = np.unique(clusters, return_counts=True)\n",
    "    print(f'Cluster indices: {_indices.tolist()}')\n",
    "    print(f'Cluster counts: {_counts.tolist()}')\n",
    "    return clusters"
   ]
  },
  {
   "cell_type": "code",
   "execution_count": 31,
   "id": "f2429616-bebb-4d4d-9888-6b9af573d4e2",
   "metadata": {},
   "outputs": [],
   "source": [
    "def model_save(model, clusters, model_name, bbox_list=bbox_list, output_file=output_file):\n",
    "    model.eval()\n",
    "    torch.save(model.state_dict(), '{}.pth'.format(model_name))\n",
    "    # Loop over boxes and add clusters\n",
    "    idx = 0\n",
    "    for bbox_dict in bbox_list:\n",
    "        num_bboxes = len(bbox_dict['bboxes'])\n",
    "        #del bbox_dict['features']  # bbox_dict['features'] = bbox_dict['features'].squeeze()\n",
    "        bbox_dict['clusters'] = np.array(clusters[idx: idx + num_bboxes])\n",
    "        idx = idx + num_bboxes\n",
    "    # Save\n",
    "    torch.save(bbox_list, output_file)\n",
    "    print(f'Saved features to {output_file}')"
   ]
  },
  {
   "cell_type": "code",
   "execution_count": 26,
   "id": "976346c7-d237-4be3-989e-d26bd90d86b5",
   "metadata": {},
   "outputs": [
    {
     "data": {
      "text/plain": [
       "[2, 2, 2, 2, 2, 2, 2, 2, 2, 2, 2, 2, 2, 2]"
      ]
     },
     "execution_count": 26,
     "metadata": {},
     "output_type": "execute_result"
    }
   ],
   "source": [
    "bbox_list[0]['clusters']"
   ]
  },
  {
   "cell_type": "code",
   "execution_count": 20,
   "id": "a856e99d-ac94-44d1-9b1c-744221ea49d3",
   "metadata": {},
   "outputs": [],
   "source": [
    "def model_load(model, model_name):\n",
    "    model.load_state_dict(torch.load('{}.pth'.format(model_name)))\n",
    "    model.to(device)\n",
    "    model.eval()\n",
    "    return model"
   ]
  },
  {
   "cell_type": "code",
   "execution_count": 15,
   "id": "5edcc292-bd09-46f2-b7e6-7529d342371c",
   "metadata": {},
   "outputs": [
    {
     "ename": "RuntimeError",
     "evalue": "Error(s) in loading state_dict for KMeanAttentionBlock:\n\tMissing key(s) in state_dict: \"mlp.norm.weight\", \"mlp.norm.bias\". ",
     "output_type": "error",
     "traceback": [
      "\u001b[0;31m---------------------------------------------------------------------------\u001b[0m",
      "\u001b[0;31mRuntimeError\u001b[0m                              Traceback (most recent call last)",
      "Cell \u001b[0;32mIn [15], line 2\u001b[0m\n\u001b[1;32m      1\u001b[0m model \u001b[38;5;241m=\u001b[39m KMeanAttentionBlock(num_clusters \u001b[38;5;241m=\u001b[39m NUM_CLUSTERS, embedding_dim\u001b[38;5;241m=\u001b[39mEMB_DIM, num_heads\u001b[38;5;241m=\u001b[39mNUM_HEADS, mlp_dim\u001b[38;5;241m=\u001b[39m\u001b[38;5;241m512\u001b[39m)\n\u001b[0;32m----> 2\u001b[0m model \u001b[38;5;241m=\u001b[39m \u001b[43mmodel_load\u001b[49m\u001b[43m(\u001b[49m\u001b[43mmodel\u001b[49m\u001b[43m,\u001b[49m\u001b[43m \u001b[49m\u001b[38;5;124;43m'\u001b[39;49m\u001b[38;5;124;43mtransformer_kmeans_k_2_k_05_lr_3e5_500_epochs_21_clusters\u001b[39;49m\u001b[38;5;124;43m'\u001b[39;49m\u001b[43m)\u001b[49m\n\u001b[1;32m      3\u001b[0m model\n",
      "Cell \u001b[0;32mIn [14], line 2\u001b[0m, in \u001b[0;36mmodel_load\u001b[0;34m(model, model_name)\u001b[0m\n\u001b[1;32m      1\u001b[0m \u001b[38;5;28;01mdef\u001b[39;00m \u001b[38;5;21mmodel_load\u001b[39m(model, model_name):\n\u001b[0;32m----> 2\u001b[0m     \u001b[43mmodel\u001b[49m\u001b[38;5;241;43m.\u001b[39;49m\u001b[43mload_state_dict\u001b[49m\u001b[43m(\u001b[49m\u001b[43mtorch\u001b[49m\u001b[38;5;241;43m.\u001b[39;49m\u001b[43mload\u001b[49m\u001b[43m(\u001b[49m\u001b[38;5;124;43m'\u001b[39;49m\u001b[38;5;132;43;01m{}\u001b[39;49;00m\u001b[38;5;124;43m.pth\u001b[39;49m\u001b[38;5;124;43m'\u001b[39;49m\u001b[38;5;241;43m.\u001b[39;49m\u001b[43mformat\u001b[49m\u001b[43m(\u001b[49m\u001b[43mmodel_name\u001b[49m\u001b[43m)\u001b[49m\u001b[43m)\u001b[49m\u001b[43m)\u001b[49m\n\u001b[1;32m      3\u001b[0m     model\u001b[38;5;241m.\u001b[39mto(device)\n\u001b[1;32m      4\u001b[0m     model\u001b[38;5;241m.\u001b[39meval()\n",
      "File \u001b[0;32m/opt/conda/lib/python3.8/site-packages/torch/nn/modules/module.py:1482\u001b[0m, in \u001b[0;36mModule.load_state_dict\u001b[0;34m(self, state_dict, strict)\u001b[0m\n\u001b[1;32m   1477\u001b[0m         error_msgs\u001b[38;5;241m.\u001b[39minsert(\n\u001b[1;32m   1478\u001b[0m             \u001b[38;5;241m0\u001b[39m, \u001b[38;5;124m'\u001b[39m\u001b[38;5;124mMissing key(s) in state_dict: \u001b[39m\u001b[38;5;132;01m{}\u001b[39;00m\u001b[38;5;124m. \u001b[39m\u001b[38;5;124m'\u001b[39m\u001b[38;5;241m.\u001b[39mformat(\n\u001b[1;32m   1479\u001b[0m                 \u001b[38;5;124m'\u001b[39m\u001b[38;5;124m, \u001b[39m\u001b[38;5;124m'\u001b[39m\u001b[38;5;241m.\u001b[39mjoin(\u001b[38;5;124m'\u001b[39m\u001b[38;5;124m\"\u001b[39m\u001b[38;5;132;01m{}\u001b[39;00m\u001b[38;5;124m\"\u001b[39m\u001b[38;5;124m'\u001b[39m\u001b[38;5;241m.\u001b[39mformat(k) \u001b[38;5;28;01mfor\u001b[39;00m k \u001b[38;5;129;01min\u001b[39;00m missing_keys)))\n\u001b[1;32m   1481\u001b[0m \u001b[38;5;28;01mif\u001b[39;00m \u001b[38;5;28mlen\u001b[39m(error_msgs) \u001b[38;5;241m>\u001b[39m \u001b[38;5;241m0\u001b[39m:\n\u001b[0;32m-> 1482\u001b[0m     \u001b[38;5;28;01mraise\u001b[39;00m \u001b[38;5;167;01mRuntimeError\u001b[39;00m(\u001b[38;5;124m'\u001b[39m\u001b[38;5;124mError(s) in loading state_dict for \u001b[39m\u001b[38;5;132;01m{}\u001b[39;00m\u001b[38;5;124m:\u001b[39m\u001b[38;5;130;01m\\n\u001b[39;00m\u001b[38;5;130;01m\\t\u001b[39;00m\u001b[38;5;132;01m{}\u001b[39;00m\u001b[38;5;124m'\u001b[39m\u001b[38;5;241m.\u001b[39mformat(\n\u001b[1;32m   1483\u001b[0m                        \u001b[38;5;28mself\u001b[39m\u001b[38;5;241m.\u001b[39m\u001b[38;5;18m__class__\u001b[39m\u001b[38;5;241m.\u001b[39m\u001b[38;5;18m__name__\u001b[39m, \u001b[38;5;124m\"\u001b[39m\u001b[38;5;130;01m\\n\u001b[39;00m\u001b[38;5;130;01m\\t\u001b[39;00m\u001b[38;5;124m\"\u001b[39m\u001b[38;5;241m.\u001b[39mjoin(error_msgs)))\n\u001b[1;32m   1484\u001b[0m \u001b[38;5;28;01mreturn\u001b[39;00m _IncompatibleKeys(missing_keys, unexpected_keys)\n",
      "\u001b[0;31mRuntimeError\u001b[0m: Error(s) in loading state_dict for KMeanAttentionBlock:\n\tMissing key(s) in state_dict: \"mlp.norm.weight\", \"mlp.norm.bias\". "
     ]
    }
   ],
   "source": [
    "model = KMeanAttentionBlock(num_clusters = NUM_CLUSTERS, embedding_dim=EMB_DIM, num_heads=NUM_HEADS, mlp_dim=512)\n",
    "model = model_load(model, 'transformer_kmeans_k_2_k_05_lr_3e5_500_epochs_21_clusters')\n",
    "model"
   ]
  },
  {
   "cell_type": "markdown",
   "id": "d95e0b23-472d-48db-8b50-385951d321c5",
   "metadata": {},
   "source": [
    "### Method 2: KMean as a sequence of MLPs"
   ]
  },
  {
   "cell_type": "code",
   "execution_count": 447,
   "id": "58ff5f73-760d-493d-8349-ca4e594bed4f",
   "metadata": {},
   "outputs": [],
   "source": [
    "class KMeanMLP(nn.Module):\n",
    "    def __init__(\n",
    "        self,\n",
    "        embedding_dim: int,\n",
    "        num_clusters: int = 21,\n",
    "        mlp_dim: int = 2048,\n",
    "        depth: int = 3,\n",
    "        activation: Type[nn.Module] = nn.ReLU,\n",
    "        skip_connection: bool = False,\n",
    "        layer_norm: bool = False\n",
    "    ) -> None:\n",
    "        \"\"\"\n",
    "        Arguments:\n",
    "          embedding_dim (int): the channel dimension of the embeddings\n",
    "          num_heads (int): the number of heads in the attention layers\n",
    "          mlp_dim (int): the hidden dimension of the mlp block\n",
    "          num_clusters (int): number of clusters\n",
    "          depth (int): depth of the network\n",
    "          activation (nn.Module): the activation of the mlp block\n",
    "        \"\"\"\n",
    "        super().__init__() \n",
    "        # Initialize claster centers embedings\n",
    "        self.cluster_centers = torch.nn.Parameter(data=torch.randn(num_clusters, embedding_dim) / math.sqrt(embedding_dim / 2), requires_grad=True)\n",
    "        # MLP blocks\n",
    "        self.layers = nn.ModuleList()\n",
    "        \n",
    "        for i in range(depth):\n",
    "            self.layers.append(MLPBlock(embedding_dim, mlp_dim, activation, skip_connection, layer_norm))\n",
    "\n",
    "    def forward(self, bbox_features: Tensor) -> Tuple[Tensor, Tensor]: \n",
    "        for mlp in self.layers:\n",
    "            bbox_features = mlp(bbox_features)\n",
    "        return bbox_features.squeeze(), self.cluster_centers"
   ]
  },
  {
   "cell_type": "markdown",
   "id": "4b2f0785-4ba8-42f3-b157-e62f15ec1928",
   "metadata": {},
   "source": [
    "#### Indentical"
   ]
  },
  {
   "cell_type": "code",
   "execution_count": 229,
   "id": "5a3c4616-bd60-420f-918c-1b65feb95560",
   "metadata": {},
   "outputs": [
    {
     "name": "stdout",
     "output_type": "stream",
     "text": [
      "0\n"
     ]
    }
   ],
   "source": [
    "clear_gpu()"
   ]
  },
  {
   "cell_type": "code",
   "execution_count": 215,
   "id": "c52dc4e0-b259-494f-b2f3-13d9a149a297",
   "metadata": {},
   "outputs": [
    {
     "data": {
      "text/plain": [
       "KMeanMLP(\n",
       "  (layers): ModuleList()\n",
       ")"
      ]
     },
     "execution_count": 215,
     "metadata": {},
     "output_type": "execute_result"
    }
   ],
   "source": [
    "from torch import optim \n",
    "\n",
    "model = KMeanMLP(embedding_dim=EMB_DIM, num_clusters = NUM_CLUSTERS, mlp_dim=512, depth=0).to(device)\n",
    "optimizer = optim.AdamW(model.parameters(), lr=3e-5, eps=1e-8)\n",
    "model"
   ]
  },
  {
   "cell_type": "code",
   "execution_count": 216,
   "id": "60c7a2d8-60fa-48f9-8c96-d332b83672d5",
   "metadata": {},
   "outputs": [
    {
     "name": "stdout",
     "output_type": "stream",
     "text": [
      "Epoch 599, Train loss: 6.734584743693723\n"
     ]
    },
    {
     "data": {
      "image/png": "[encoded data removed]",
      "text/plain": [
       "<Figure size 1200x800 with 1 Axes>"
      ]
     },
     "metadata": {},
     "output_type": "display_data"
    },
    {
     "name": "stderr",
     "output_type": "stream",
     "text": [
      "100%|██████████| 600/600 [08:10<00:00,  1.22it/s]\n"
     ]
    }
   ],
   "source": [
    "# Attn + MLP\n",
    "model = train(train_data, model, optimizer, epochs=600)"
   ]
  },
  {
   "cell_type": "code",
   "execution_count": 217,
   "id": "b884bb67-2fca-4b79-8529-f09ea64e11f4",
   "metadata": {},
   "outputs": [
    {
     "name": "stderr",
     "output_type": "stream",
     "text": [
      "100%|██████████| 59/59 [00:00<00:00, 117.12it/s]"
     ]
    },
    {
     "name": "stdout",
     "output_type": "stream",
     "text": [
      "Cluster indices: [0, 1, 2, 3, 4, 5, 6, 7, 8, 9, 10, 11, 12, 13, 14, 15, 16, 17, 18, 19, 20]\n",
      "Cluster counts: [77184, 4004, 1458, 1464, 12447, 15130, 2987, 16000, 15210, 15128, 8711, 9649, 11526, 66, 1628, 12061, 15922, 400, 16591, 512, 1672]\n"
     ]
    },
    {
     "name": "stderr",
     "output_type": "stream",
     "text": [
      "\n"
     ]
    }
   ],
   "source": [
    "clusters = model_eval(model, train_data)"
   ]
  },
  {
   "cell_type": "code",
   "execution_count": 219,
   "id": "d25c94e7-92bb-4be1-9bb4-ee6ab6ab9977",
   "metadata": {},
   "outputs": [
    {
     "name": "stdout",
     "output_type": "stream",
     "text": [
      "Saved features to ./data/VOC2012/multi_region_bboxes/laplacian/bbox_clusters.pth\n"
     ]
    }
   ],
   "source": [
    "model_save(model, clusters, model_name='IndenticalBlock')"
   ]
  },
  {
   "cell_type": "markdown",
   "id": "3469a759-c31b-4e9a-b4d5-3f00e06722d1",
   "metadata": {},
   "source": [
    "#### MLP"
   ]
  },
  {
   "cell_type": "code",
   "execution_count": 277,
   "id": "5b95258c-40ab-4b3b-bf61-bd1443077948",
   "metadata": {},
   "outputs": [
    {
     "name": "stdout",
     "output_type": "stream",
     "text": [
      "24\n"
     ]
    }
   ],
   "source": [
    "clear_gpu()"
   ]
  },
  {
   "cell_type": "code",
   "execution_count": 243,
   "id": "b279bbec-d632-4774-a6d2-434d5f862383",
   "metadata": {},
   "outputs": [
    {
     "data": {
      "text/plain": [
       "KMeanMLP(\n",
       "  (layers): ModuleList(\n",
       "    (0): MLPBlock(\n",
       "      (lin1): Linear(in_features=384, out_features=512, bias=True)\n",
       "      (lin2): Linear(in_features=512, out_features=384, bias=True)\n",
       "      (act): ReLU()\n",
       "    )\n",
       "  )\n",
       ")"
      ]
     },
     "execution_count": 243,
     "metadata": {},
     "output_type": "execute_result"
    }
   ],
   "source": [
    "from torch import optim \n",
    "\n",
    "model = KMeanMLP(embedding_dim=EMB_DIM, num_clusters = NUM_CLUSTERS, mlp_dim=512, depth=1).to(device)\n",
    "optimizer = optim.AdamW(model.parameters(), lr=3e-5, eps=1e-8)\n",
    "model"
   ]
  },
  {
   "cell_type": "code",
   "execution_count": 244,
   "id": "4d57c83d-c020-4d06-b528-cb7400dc2dd1",
   "metadata": {},
   "outputs": [
    {
     "name": "stdout",
     "output_type": "stream",
     "text": [
      "Epoch 499, Train loss: 0.46519349692231515\n"
     ]
    },
    {
     "data": {
      "image/png": "[encoded data removed]",
      "text/plain": [
       "<Figure size 1200x800 with 1 Axes>"
      ]
     },
     "metadata": {},
     "output_type": "display_data"
    },
    {
     "name": "stderr",
     "output_type": "stream",
     "text": [
      "100%|██████████| 500/500 [08:46<00:00,  1.05s/it]\n"
     ]
    }
   ],
   "source": [
    "# Attn + MLP\n",
    "model = train(train_data, model, optimizer, epochs=500)"
   ]
  },
  {
   "cell_type": "code",
   "execution_count": 245,
   "id": "bbc0967e-87a2-470c-a06a-8cf62a941143",
   "metadata": {},
   "outputs": [
    {
     "name": "stderr",
     "output_type": "stream",
     "text": [
      "100%|██████████| 59/59 [00:00<00:00, 102.32it/s]"
     ]
    },
    {
     "name": "stdout",
     "output_type": "stream",
     "text": [
      "Cluster indices: [0, 1, 2, 3, 4, 5, 6, 7, 8, 9, 10, 11, 12, 13, 14, 15, 16, 17, 18, 19, 20]\n",
      "Cluster counts: [37310, 12073, 19880, 7358, 16186, 6247, 8946, 9337, 6474, 6975, 10113, 8742, 7377, 10533, 13074, 5160, 7899, 11942, 18243, 6748, 9133]\n"
     ]
    },
    {
     "name": "stderr",
     "output_type": "stream",
     "text": [
      "\n"
     ]
    }
   ],
   "source": [
    "clusters = model_eval(model, train_data)"
   ]
  },
  {
   "cell_type": "code",
   "execution_count": 246,
   "id": "8bc68ca6-a46e-4ce0-8d51-b2dedb110149",
   "metadata": {},
   "outputs": [
    {
     "name": "stdout",
     "output_type": "stream",
     "text": [
      "Saved features to ./data/VOC2012/multi_region_bboxes/laplacian/bbox_clusters.pth\n"
     ]
    }
   ],
   "source": [
    "model_save(model, clusters, model_name='MLPBlock', bbox_list=bbox_list, output_file=output_file)"
   ]
  },
  {
   "cell_type": "markdown",
   "id": "870fd92f-607d-4205-a492-2c2203ec7068",
   "metadata": {},
   "source": [
    "#### 2 x MLP"
   ]
  },
  {
   "cell_type": "code",
   "execution_count": 270,
   "id": "96cbba88-429e-4a44-a4c8-2875e50c0a5a",
   "metadata": {},
   "outputs": [
    {
     "name": "stdout",
     "output_type": "stream",
     "text": [
      "0\n"
     ]
    }
   ],
   "source": [
    "clear_gpu()"
   ]
  },
  {
   "cell_type": "code",
   "execution_count": 263,
   "id": "322a4ee0-2027-4bda-8e81-5da98d68b3f1",
   "metadata": {},
   "outputs": [
    {
     "data": {
      "text/plain": [
       "KMeanMLP(\n",
       "  (layers): ModuleList(\n",
       "    (0): MLPBlock(\n",
       "      (lin1): Linear(in_features=384, out_features=512, bias=True)\n",
       "      (lin2): Linear(in_features=512, out_features=384, bias=True)\n",
       "      (act): ReLU()\n",
       "    )\n",
       "    (1): MLPBlock(\n",
       "      (lin1): Linear(in_features=384, out_features=512, bias=True)\n",
       "      (lin2): Linear(in_features=512, out_features=384, bias=True)\n",
       "      (act): ReLU()\n",
       "    )\n",
       "  )\n",
       ")"
      ]
     },
     "execution_count": 263,
     "metadata": {},
     "output_type": "execute_result"
    }
   ],
   "source": [
    "from torch import optim \n",
    "\n",
    "model = KMeanMLP(embedding_dim=EMB_DIM, num_clusters = NUM_CLUSTERS, mlp_dim=512, depth=2).to(device)\n",
    "optimizer = optim.AdamW(model.parameters(), lr=3e-5, eps=1e-8)\n",
    "model"
   ]
  },
  {
   "cell_type": "code",
   "execution_count": 264,
   "id": "c74ae750-f2c0-4e5c-8091-d62ff7354694",
   "metadata": {},
   "outputs": [
    {
     "name": "stdout",
     "output_type": "stream",
     "text": [
      "Epoch 599, Train loss: 1.4880353808403015\n"
     ]
    },
    {
     "data": {
      "image/png": "[encoded data removed]",
      "text/plain": [
       "<Figure size 1200x800 with 1 Axes>"
      ]
     },
     "metadata": {},
     "output_type": "display_data"
    },
    {
     "name": "stderr",
     "output_type": "stream",
     "text": [
      "100%|██████████| 600/600 [12:36<00:00,  1.26s/it]\n"
     ]
    }
   ],
   "source": [
    "# Attn + MLP\n",
    "model = train(train_data, model, optimizer, epochs=600)"
   ]
  },
  {
   "cell_type": "code",
   "execution_count": 265,
   "id": "cda2fafd-d657-44d5-94a8-32adb941f3c8",
   "metadata": {},
   "outputs": [
    {
     "name": "stderr",
     "output_type": "stream",
     "text": [
      "100%|██████████| 59/59 [00:00<00:00, 76.76it/s]"
     ]
    },
    {
     "name": "stdout",
     "output_type": "stream",
     "text": [
      "Cluster indices: [0, 1, 2, 3, 5, 6, 7, 9, 10, 11, 12, 13, 14, 15, 16, 17, 18, 19, 20]\n",
      "Cluster counts: [18397, 15074, 18745, 33651, 3399, 5691, 9630, 3532, 4588, 19642, 5902, 2823, 1746, 20093, 14616, 51702, 1, 7041, 3477]\n"
     ]
    },
    {
     "name": "stderr",
     "output_type": "stream",
     "text": [
      "\n"
     ]
    }
   ],
   "source": [
    "clusters = model_eval(model, train_data)"
   ]
  },
  {
   "cell_type": "code",
   "execution_count": 272,
   "id": "51d13997-ba14-4b3d-b86f-1324f57e75dc",
   "metadata": {},
   "outputs": [
    {
     "name": "stdout",
     "output_type": "stream",
     "text": [
      "Saved features to ./data/VOC2012/multi_region_bboxes/laplacian/bbox_clusters.pth\n"
     ]
    }
   ],
   "source": [
    "model_save(model, clusters, model_name='2MLPBlock', bbox_list=bbox_list, output_file=output_file)"
   ]
  },
  {
   "cell_type": "code",
   "execution_count": 324,
   "id": "a0d70c93-1f81-4f32-a5ce-1842bdcd7514",
   "metadata": {},
   "outputs": [
    {
     "name": "stdout",
     "output_type": "stream",
     "text": [
      "0\n"
     ]
    }
   ],
   "source": [
    "clear_gpu()"
   ]
  },
  {
   "cell_type": "code",
   "execution_count": 325,
   "id": "d99d5626-438c-4480-8de7-8224964ab496",
   "metadata": {},
   "outputs": [
    {
     "data": {
      "text/plain": [
       "KMeanMLP(\n",
       "  (layers): ModuleList(\n",
       "    (0): MLPBlock(\n",
       "      (lin1): Linear(in_features=384, out_features=512, bias=True)\n",
       "      (lin2): Linear(in_features=512, out_features=384, bias=True)\n",
       "      (act): ReLU()\n",
       "      (norm): LayerNorm((384,), eps=1e-05, elementwise_affine=True)\n",
       "    )\n",
       "  )\n",
       ")"
      ]
     },
     "execution_count": 325,
     "metadata": {},
     "output_type": "execute_result"
    }
   ],
   "source": [
    "from torch import optim \n",
    "\n",
    "model = KMeanMLP(embedding_dim=EMB_DIM, num_clusters = NUM_CLUSTERS, mlp_dim=512, depth=1, skip_connection = True, layer_norm=True).to(device)\n",
    "optimizer = optim.AdamW(model.parameters(), lr=3e-5, eps=1e-8)\n",
    "model"
   ]
  },
  {
   "cell_type": "code",
   "execution_count": 326,
   "id": "4cafb7af-367e-45d6-b999-335128e7b106",
   "metadata": {},
   "outputs": [
    {
     "name": "stdout",
     "output_type": "stream",
     "text": [
      "Epoch 599, Train loss: 0.6678613414198665\n"
     ]
    },
    {
     "data": {
      "image/png": "[encoded data removed]",
      "text/plain": [
       "<Figure size 1200x800 with 1 Axes>"
      ]
     },
     "metadata": {},
     "output_type": "display_data"
    },
    {
     "name": "stderr",
     "output_type": "stream",
     "text": [
      "100%|██████████| 600/600 [11:12<00:00,  1.12s/it]\n"
     ]
    }
   ],
   "source": [
    "# Attn + MLP\n",
    "model = train(train_data, model, optimizer, epochs=600)"
   ]
  },
  {
   "cell_type": "code",
   "execution_count": 327,
   "id": "21bbdfde-76db-44fb-adc5-4321be3118a9",
   "metadata": {},
   "outputs": [
    {
     "name": "stderr",
     "output_type": "stream",
     "text": [
      "100%|██████████| 59/59 [00:02<00:00, 26.09it/s]"
     ]
    },
    {
     "name": "stdout",
     "output_type": "stream",
     "text": [
      "Cluster indices: [0, 1, 2, 3, 4, 5, 6, 7, 8, 9, 10, 11, 12, 13, 14, 15, 16, 17, 18, 19, 20]\n",
      "Cluster counts: [45888, 9381, 5765, 12849, 9232, 7140, 7399, 11282, 7499, 7732, 6952, 5691, 13611, 6823, 20919, 8073, 11028, 6470, 6648, 12590, 16778]\n"
     ]
    },
    {
     "name": "stderr",
     "output_type": "stream",
     "text": [
      "\n"
     ]
    }
   ],
   "source": [
    "clusters = model_eval(model, train_data)"
   ]
  },
  {
   "cell_type": "code",
   "execution_count": 328,
   "id": "4e9d044e-31ff-4762-9e51-10e5ff3ec0a3",
   "metadata": {},
   "outputs": [
    {
     "name": "stdout",
     "output_type": "stream",
     "text": [
      "Saved features to ./data/VOC2012/multi_region_bboxes/laplacian/bbox_clusters.pth\n"
     ]
    }
   ],
   "source": [
    "model_save(model, clusters, model_name='MLPBlock_SkipConnection', bbox_list=bbox_list, output_file=output_file)"
   ]
  },
  {
   "cell_type": "code",
   "execution_count": 387,
   "id": "0807e970-534e-4b40-8341-a6b452b52e71",
   "metadata": {},
   "outputs": [
    {
     "name": "stdout",
     "output_type": "stream",
     "text": [
      "0\n"
     ]
    }
   ],
   "source": [
    "clear_gpu()"
   ]
  },
  {
   "cell_type": "code",
   "execution_count": 388,
   "id": "f0ac0ea7-7617-4336-b375-13afc1c2b41a",
   "metadata": {},
   "outputs": [
    {
     "data": {
      "text/plain": [
       "KMeanMLP(\n",
       "  (layers): ModuleList(\n",
       "    (0): MLPBlock(\n",
       "      (lin1): Linear(in_features=384, out_features=512, bias=True)\n",
       "      (lin2): Linear(in_features=512, out_features=384, bias=True)\n",
       "      (dropout): Dropout(p=0.1, inplace=False)\n",
       "      (act): ReLU()\n",
       "      (norm): LayerNorm((384,), eps=1e-05, elementwise_affine=True)\n",
       "    )\n",
       "    (1): MLPBlock(\n",
       "      (lin1): Linear(in_features=384, out_features=512, bias=True)\n",
       "      (lin2): Linear(in_features=512, out_features=384, bias=True)\n",
       "      (dropout): Dropout(p=0.1, inplace=False)\n",
       "      (act): ReLU()\n",
       "      (norm): LayerNorm((384,), eps=1e-05, elementwise_affine=True)\n",
       "    )\n",
       "  )\n",
       ")"
      ]
     },
     "execution_count": 388,
     "metadata": {},
     "output_type": "execute_result"
    }
   ],
   "source": [
    "from torch import optim \n",
    "\n",
    "model = KMeanMLP(embedding_dim=EMB_DIM, num_clusters = NUM_CLUSTERS, mlp_dim=512, depth=2, skip_connection = True, layer_norm=True).to(device)\n",
    "optimizer = optim.AdamW(model.parameters(), lr=3e-5, eps=1e-8)\n",
    "model"
   ]
  },
  {
   "cell_type": "code",
   "execution_count": 389,
   "id": "d641a454-202d-4be1-bc84-bcc9657e834a",
   "metadata": {},
   "outputs": [
    {
     "name": "stdout",
     "output_type": "stream",
     "text": [
      "Epoch 8, Train loss: 6.724150746555652\n"
     ]
    },
    {
     "data": {
      "image/png": "[encoded data removed]",
      "text/plain": [
       "<Figure size 1200x800 with 1 Axes>"
      ]
     },
     "metadata": {},
     "output_type": "display_data"
    },
    {
     "name": "stderr",
     "output_type": "stream",
     "text": [
      "  3%|▎         | 2/59 [00:00<00:01, 38.72it/s]]\n",
      "  2%|▏         | 9/500 [00:12<11:12,  1.37s/it]\n"
     ]
    },
    {
     "ename": "KeyboardInterrupt",
     "evalue": "",
     "output_type": "error",
     "traceback": [
      "\u001b[0;31m---------------------------------------------------------------------------\u001b[0m",
      "\u001b[0;31mKeyboardInterrupt\u001b[0m                         Traceback (most recent call last)",
      "Cell \u001b[0;32mIn [389], line 2\u001b[0m\n\u001b[1;32m      1\u001b[0m \u001b[38;5;66;03m# Attn + MLP\u001b[39;00m\n\u001b[0;32m----> 2\u001b[0m model \u001b[38;5;241m=\u001b[39m \u001b[43mtrain\u001b[49m\u001b[43m(\u001b[49m\u001b[43mtrain_data\u001b[49m\u001b[43m,\u001b[49m\u001b[43m \u001b[49m\u001b[43mmodel\u001b[49m\u001b[43m,\u001b[49m\u001b[43m \u001b[49m\u001b[43moptimizer\u001b[49m\u001b[43m,\u001b[49m\u001b[43m \u001b[49m\u001b[43mepochs\u001b[49m\u001b[38;5;241;43m=\u001b[39;49m\u001b[38;5;241;43m500\u001b[39;49m\u001b[43m)\u001b[49m\n",
      "Cell \u001b[0;32mIn [375], line 22\u001b[0m, in \u001b[0;36mtrain\u001b[0;34m(train_data, model, optimizer, epochs, batch_size)\u001b[0m\n\u001b[1;32m     19\u001b[0m loss \u001b[38;5;241m=\u001b[39m kmean_loss(updated_features, cluster_centers)\n\u001b[1;32m     21\u001b[0m optimizer\u001b[38;5;241m.\u001b[39mzero_grad()\n\u001b[0;32m---> 22\u001b[0m \u001b[43mloss\u001b[49m\u001b[38;5;241;43m.\u001b[39;49m\u001b[43mbackward\u001b[49m\u001b[43m(\u001b[49m\u001b[43m)\u001b[49m\n\u001b[1;32m     23\u001b[0m optimizer\u001b[38;5;241m.\u001b[39mstep()\n\u001b[1;32m     25\u001b[0m \u001b[38;5;66;03m#weight_norm.append((torch.min(model.cluster_centers).cpu().item(), torch.max(model.cluster_centers).cpu().item()))\u001b[39;00m\n",
      "File \u001b[0;32m/opt/conda/lib/python3.8/site-packages/torch/_tensor.py:307\u001b[0m, in \u001b[0;36mTensor.backward\u001b[0;34m(self, gradient, retain_graph, create_graph, inputs)\u001b[0m\n\u001b[1;32m    298\u001b[0m \u001b[38;5;28;01mif\u001b[39;00m has_torch_function_unary(\u001b[38;5;28mself\u001b[39m):\n\u001b[1;32m    299\u001b[0m     \u001b[38;5;28;01mreturn\u001b[39;00m handle_torch_function(\n\u001b[1;32m    300\u001b[0m         Tensor\u001b[38;5;241m.\u001b[39mbackward,\n\u001b[1;32m    301\u001b[0m         (\u001b[38;5;28mself\u001b[39m,),\n\u001b[0;32m   (...)\u001b[0m\n\u001b[1;32m    305\u001b[0m         create_graph\u001b[38;5;241m=\u001b[39mcreate_graph,\n\u001b[1;32m    306\u001b[0m         inputs\u001b[38;5;241m=\u001b[39minputs)\n\u001b[0;32m--> 307\u001b[0m \u001b[43mtorch\u001b[49m\u001b[38;5;241;43m.\u001b[39;49m\u001b[43mautograd\u001b[49m\u001b[38;5;241;43m.\u001b[39;49m\u001b[43mbackward\u001b[49m\u001b[43m(\u001b[49m\u001b[38;5;28;43mself\u001b[39;49m\u001b[43m,\u001b[49m\u001b[43m \u001b[49m\u001b[43mgradient\u001b[49m\u001b[43m,\u001b[49m\u001b[43m \u001b[49m\u001b[43mretain_graph\u001b[49m\u001b[43m,\u001b[49m\u001b[43m \u001b[49m\u001b[43mcreate_graph\u001b[49m\u001b[43m,\u001b[49m\u001b[43m \u001b[49m\u001b[43minputs\u001b[49m\u001b[38;5;241;43m=\u001b[39;49m\u001b[43minputs\u001b[49m\u001b[43m)\u001b[49m\n",
      "File \u001b[0;32m/opt/conda/lib/python3.8/site-packages/torch/autograd/__init__.py:154\u001b[0m, in \u001b[0;36mbackward\u001b[0;34m(tensors, grad_tensors, retain_graph, create_graph, grad_variables, inputs)\u001b[0m\n\u001b[1;32m    151\u001b[0m \u001b[38;5;28;01mif\u001b[39;00m retain_graph \u001b[38;5;129;01mis\u001b[39;00m \u001b[38;5;28;01mNone\u001b[39;00m:\n\u001b[1;32m    152\u001b[0m     retain_graph \u001b[38;5;241m=\u001b[39m create_graph\n\u001b[0;32m--> 154\u001b[0m \u001b[43mVariable\u001b[49m\u001b[38;5;241;43m.\u001b[39;49m\u001b[43m_execution_engine\u001b[49m\u001b[38;5;241;43m.\u001b[39;49m\u001b[43mrun_backward\u001b[49m\u001b[43m(\u001b[49m\n\u001b[1;32m    155\u001b[0m \u001b[43m    \u001b[49m\u001b[43mtensors\u001b[49m\u001b[43m,\u001b[49m\u001b[43m \u001b[49m\u001b[43mgrad_tensors_\u001b[49m\u001b[43m,\u001b[49m\u001b[43m \u001b[49m\u001b[43mretain_graph\u001b[49m\u001b[43m,\u001b[49m\u001b[43m \u001b[49m\u001b[43mcreate_graph\u001b[49m\u001b[43m,\u001b[49m\u001b[43m \u001b[49m\u001b[43minputs\u001b[49m\u001b[43m,\u001b[49m\n\u001b[1;32m    156\u001b[0m \u001b[43m    \u001b[49m\u001b[43mallow_unreachable\u001b[49m\u001b[38;5;241;43m=\u001b[39;49m\u001b[38;5;28;43;01mTrue\u001b[39;49;00m\u001b[43m,\u001b[49m\u001b[43m \u001b[49m\u001b[43maccumulate_grad\u001b[49m\u001b[38;5;241;43m=\u001b[39;49m\u001b[38;5;28;43;01mTrue\u001b[39;49;00m\u001b[43m)\u001b[49m\n",
      "\u001b[0;31mKeyboardInterrupt\u001b[0m: "
     ]
    }
   ],
   "source": [
    "# Attn + MLP\n",
    "model = train(train_data, model, optimizer, epochs=500)"
   ]
  },
  {
   "cell_type": "code",
   "execution_count": 356,
   "id": "c17cd7ce-208a-4238-9437-7c1632ed5aa8",
   "metadata": {},
   "outputs": [
    {
     "name": "stderr",
     "output_type": "stream",
     "text": [
      "100%|██████████| 59/59 [00:01<00:00, 54.58it/s]\n"
     ]
    },
    {
     "name": "stdout",
     "output_type": "stream",
     "text": [
      "Cluster indices: [0, 1, 2, 3, 4, 5, 6, 7, 8, 9, 10, 11, 12, 13, 14, 15, 16, 17, 18, 19, 20]\n",
      "Cluster counts: [53587, 16354, 5256, 4630, 14752, 6127, 11420, 9310, 5791, 5715, 7219, 13980, 7728, 18078, 19640, 4243, 5844, 2957, 14028, 7213, 5878]\n"
     ]
    }
   ],
   "source": [
    "clusters = model_eval(model, train_data)"
   ]
  },
  {
   "cell_type": "code",
   "execution_count": 301,
   "id": "3793eaff-b1a8-4457-bb1c-20a3ed3e0dd5",
   "metadata": {},
   "outputs": [
    {
     "name": "stdout",
     "output_type": "stream",
     "text": [
      "Saved features to ./data/VOC2012/multi_region_bboxes/laplacian/bbox_clusters.pth\n"
     ]
    }
   ],
   "source": [
    "model_save(model, clusters, model_name='2MLPBlock_SkipConnection', bbox_list=bbox_list, output_file=output_file)"
   ]
  },
  {
   "cell_type": "code",
   "execution_count": 450,
   "id": "4e9c5ad6-9bf7-4114-a832-7dfb5cb01c52",
   "metadata": {},
   "outputs": [
    {
     "name": "stdout",
     "output_type": "stream",
     "text": [
      "0\n"
     ]
    }
   ],
   "source": [
    "clear_gpu()"
   ]
  },
  {
   "cell_type": "code",
   "execution_count": 451,
   "id": "bbfda8de-dfea-4b56-b180-e1c30ea07910",
   "metadata": {},
   "outputs": [
    {
     "data": {
      "text/plain": [
       "KMeanAttentionBlock(\n",
       "  (self_attn): Attention(\n",
       "    (q_proj): Linear(in_features=384, out_features=384, bias=True)\n",
       "    (k_proj): Linear(in_features=384, out_features=384, bias=True)\n",
       "    (v_proj): Linear(in_features=384, out_features=384, bias=True)\n",
       "    (out_proj): Linear(in_features=384, out_features=384, bias=True)\n",
       "  )\n",
       "  (norm1): LayerNorm((384,), eps=1e-05, elementwise_affine=True)\n",
       "  (mlp): MLPBlock(\n",
       "    (lin1): Linear(in_features=384, out_features=512, bias=True)\n",
       "    (lin2): Linear(in_features=512, out_features=384, bias=True)\n",
       "    (dropout): Dropout(p=0.1, inplace=False)\n",
       "    (act): ReLU()\n",
       "    (norm): LayerNorm((384,), eps=1e-05, elementwise_affine=True)\n",
       "  )\n",
       "  (norm2): LayerNorm((384,), eps=1e-05, elementwise_affine=True)\n",
       ")"
      ]
     },
     "execution_count": 451,
     "metadata": {},
     "output_type": "execute_result"
    }
   ],
   "source": [
    "from torch import optim \n",
    "\n",
    "model = KMeanAttentionBlock(num_clusters = NUM_CLUSTERS, embedding_dim=EMB_DIM, num_heads=1, mlp_dim=512).to(device)\n",
    "optimizer = optim.AdamW(model.parameters(), lr=3e-5, eps=1e-8)\n",
    "model"
   ]
  },
  {
   "cell_type": "code",
   "execution_count": 452,
   "id": "cadb086c-5059-4b5d-b179-49a086aee2db",
   "metadata": {},
   "outputs": [
    {
     "name": "stdout",
     "output_type": "stream",
     "text": [
      "Epoch 599, Train loss: 0.6365418807934906\n"
     ]
    },
    {
     "data": {
      "image/png": "[encoded data removed]",
      "text/plain": [
       "<Figure size 1200x800 with 1 Axes>"
      ]
     },
     "metadata": {},
     "output_type": "display_data"
    },
    {
     "name": "stderr",
     "output_type": "stream",
     "text": [
      "100%|██████████| 600/600 [20:08<00:00,  2.01s/it]\n"
     ]
    }
   ],
   "source": [
    "# Attn + MLP\n",
    "model = train(train_data, model, optimizer, epochs=600)"
   ]
  },
  {
   "cell_type": "code",
   "execution_count": 32,
   "id": "41bde7cc-046c-46b2-9dee-921b82dd5373",
   "metadata": {},
   "outputs": [
    {
     "name": "stderr",
     "output_type": "stream",
     "text": [
      "100%|██████████| 59/59 [00:00<00:00, 110.20it/s]"
     ]
    },
    {
     "name": "stdout",
     "output_type": "stream",
     "text": [
      "Cluster indices: [0, 1, 2, 3, 4, 5, 6, 7, 8, 9, 10, 11, 12, 13, 14, 15, 16, 17, 18, 19, 20]\n",
      "Cluster counts: [53578, 7594, 9404, 6743, 8939, 5683, 15388, 10804, 9776, 14154, 6506, 19370, 9286, 7827, 5120, 6720, 17396, 5711, 5224, 8118, 6409]\n"
     ]
    },
    {
     "name": "stderr",
     "output_type": "stream",
     "text": [
      "\n"
     ]
    }
   ],
   "source": [
    "clusters = model_eval(model, train_data)"
   ]
  },
  {
   "cell_type": "code",
   "execution_count": 33,
   "id": "45443ca2-74f0-4b67-b466-ee3e6e3811e4",
   "metadata": {},
   "outputs": [
    {
     "name": "stdout",
     "output_type": "stream",
     "text": [
      "Saved features to ./data/VOC2012/multi_region_bboxes/laplacian/bbox_clusters.pth\n"
     ]
    }
   ],
   "source": [
    "model_save(model, clusters, model_name='AttnMLP8', bbox_list=bbox_list, output_file=output_file)"
   ]
  },
  {
   "cell_type": "code",
   "execution_count": 16,
   "id": "253fee7f-fbd7-452d-8a41-b272e4da3f32",
   "metadata": {},
   "outputs": [
    {
     "data": {
      "text/plain": [
       "KMeanAttentionBlock(\n",
       "  (self_attn): Attention(\n",
       "    (q_proj): Linear(in_features=384, out_features=384, bias=True)\n",
       "    (k_proj): Linear(in_features=384, out_features=384, bias=True)\n",
       "    (v_proj): Linear(in_features=384, out_features=384, bias=True)\n",
       "    (out_proj): Linear(in_features=384, out_features=384, bias=True)\n",
       "  )\n",
       "  (norm1): LayerNorm((384,), eps=1e-05, elementwise_affine=True)\n",
       "  (mlp): MLPBlock(\n",
       "    (lin1): Linear(in_features=384, out_features=512, bias=True)\n",
       "    (lin2): Linear(in_features=512, out_features=384, bias=True)\n",
       "    (dropout): Dropout(p=0.1, inplace=False)\n",
       "    (act): ReLU()\n",
       "    (norm): LayerNorm((384,), eps=1e-05, elementwise_affine=True)\n",
       "  )\n",
       "  (norm2): LayerNorm((384,), eps=1e-05, elementwise_affine=True)\n",
       ")"
      ]
     },
     "execution_count": 16,
     "metadata": {},
     "output_type": "execute_result"
    }
   ],
   "source": [
    "model = KMeanAttentionBlock(num_clusters = NUM_CLUSTERS, embedding_dim=EMB_DIM, num_heads=NUM_HEADS, mlp_dim=512)\n",
    "model = model_load(model, 'AttnMLP8')\n",
    "model"
   ]
  },
  {
   "cell_type": "code",
   "execution_count": 21,
   "id": "914c8c96-98fb-4bb0-97e0-b0a58284c3ce",
   "metadata": {},
   "outputs": [
    {
     "name": "stderr",
     "output_type": "stream",
     "text": [
      "100%|██████████| 59/59 [00:00<00:00, 76.89it/s]\n"
     ]
    },
    {
     "name": "stdout",
     "output_type": "stream",
     "text": [
      "Cluster indices: [0, 1, 2, 3, 4, 5, 6, 7, 8, 9, 10, 11, 12, 13, 14, 15, 16, 17, 18, 19, 20]\n",
      "Cluster counts: [53578, 7594, 9404, 6743, 8939, 5683, 15388, 10804, 9776, 14154, 6506, 19370, 9286, 7827, 5120, 6720, 17396, 5711, 5224, 8118, 6409]\n"
     ]
    }
   ],
   "source": [
    "clusters = model_eval(model, train_data)"
   ]
  },
  {
   "cell_type": "markdown",
   "id": "067ca4b5-c4f4-45b2-8660-1488a24ec16a",
   "metadata": {},
   "source": [
    "### Results"
   ]
  },
  {
   "cell_type": "markdown",
   "id": "52fcc3c7-3cdc-4fbc-b4d3-47b60b2f0934",
   "metadata": {},
   "source": [
    "|Num Clusters | Architecture| Mean IoU|\n",
    "| --- | --- | --- |\n",
    "| **21** | DSS | 27.69|\n",
    "| **21** | KMean AS Attn + MLP | **30.03(AttnMLP without Dropout), 31.32, 30.42 (AttnMLP5 with Dropout)**|\n",
    "| **21** | KMean AS 2xAttn + MLP | 23.53, 25.64|\n",
    "| **21** | KMean AS Identical | 13.47|\n",
    "| **21** | KMean AS MLP | 26.38|\n",
    "| **21** | KMean AS MLP + SkippConnection + LayerNorm | 27.72, 25.68|\n",
    "| **21** | KMean AS 2 x MLP | 17.27|\n",
    "| **21** | KMean AS 2 x MLP + SkippConnection + LayerNorm | 25.80|"
   ]
  },
  {
   "cell_type": "markdown",
   "id": "7eb6d780-d4dc-4f12-9e5c-0048f8646698",
   "metadata": {},
   "source": [
    "## Clustaering Results"
   ]
  },
  {
   "cell_type": "markdown",
   "id": "59d73597-65d0-41a0-aa04-89c9ecbf2d53",
   "metadata": {},
   "source": [
    "|Num Clusters | Architecture| Mean IoU|\n",
    "| --- | --- | --- |\n",
    "| **21** | KMeans L2  | 25.56|\n",
    "| **21** | KMeans cos | **30.03(AttnMLP without Dropout), 31.32, 30.42 (AttnMLP5 with Dropout)**|\n",
    "| **21** | KMeans cos + OT | 13.47|\n",
    "| **21** | KMeans norm/std + L2 | 23.53, 25.64|\n",
    "| **21** | KMeans norm/std + cos | 23.53, 25.64|\n",
    "| **21** | KMeans norm/std + cos + OT | 26.38|"
   ]
  }
 ],
 "metadata": {
  "kernelspec": {
   "display_name": "Python 3 (ipykernel)",
   "language": "python",
   "name": "python3"
  },
  "language_info": {
   "codemirror_mode": {
    "name": "ipython",
    "version": 3
   },
   "file_extension": ".py",
   "mimetype": "text/x-python",
   "name": "python",
   "nbconvert_exporter": "python",
   "pygments_lexer": "ipython3",
   "version": "3.8.10"
  }
 },
 "nbformat": 4,
 "nbformat_minor": 5
}
